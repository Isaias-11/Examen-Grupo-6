{
 "cells": [
  {
   "cell_type": "code",
   "execution_count": 3,
   "metadata": {},
   "outputs": [],
   "source": [
    "import numpy as np #importar libreria matematica\n",
    "import plotly.express as px #herramienta de plot\n",
    "import plotly.graph_objects as go"
   ]
  },
  {
   "cell_type": "markdown",
   "metadata": {},
   "source": [
    "# Examen \n",
    "\n",
    "![title](G6-Ejercicio.jpeg)\n",
    "\n",
    ">El péndulo invertido sobre un carro es un servomecanismo que consta de una varilla (masa despreciable) y longitud L, que gira libremente por uno de sus extremos mediante una articulación situada sobre una base móvil, a la que comúnmente se le llama carro. Este último se mueve sobre una guía rectilínea horizontal por la acción de una fuerza F, que es la acción de control con la que se pretende actuar sobre la posición del péndulo, como se muestra en la figura, donde la masa del péndulo se concentra en el extremo superior de este y no existe fricción entre las ruedas del carro y el piso. Con un límite de movimiento del péndulo de -90° a 90°, tomando el ángulo de 0° cuando el péndulo se encuentra completamente vertical. Determine:\n",
    "\n",
    "-Las ecuaciones de movimiento por el método de la Segunda Ley de Newton y el método de Lagrange.\n",
    "    \n",
    "    \n",
    "-Considerando que se tiene una masa para el péndulo de 0.3 kg y su longitud L es de 0.5 m. Encuentre la relación que existe entre el ángulo y la energía potencial que tiene el péndulo de manera gráfica. ( g=9.8  m/s^2 )\n",
    "\n",
    "\n"
   ]
  },
  {
   "cell_type": "markdown",
   "metadata": {},
   "source": [
    "# Análisis de grados de libertad:\n",
    "\n",
    "Análisis de Grados de Libertad:<dt>\n",
    "$$ g,d,l= 6*n + 3*m - R$$ <dt>\n",
    "Siendo <dt>\n",
    "$n=$ Cuerpos Rígidos <dt>\n",
    "$m=$ Partículas <dt>\n",
    "$ R: $ <dt>\n",
    "Carro: <dt> Traslación $(y,z)$ <dt>  Rotación $(x,y,z)$ <dt>\n",
    "Péndulo: <dt> Traslación $(x,y,z)$ <dt> Rotación $(x,y)$ \n",
    "$$g,d,l= 6*(2) - 10 = 12-10  $$\n",
    "$$g,d,l= 2 $$ \n",
    "Se tiene únicamente dos grados de libertad para el mecanismo."
   ]
  },
  {
   "cell_type": "markdown",
   "metadata": {},
   "source": [
    "# Primer método: Ecuaciones del movimiento"
   ]
  },
  {
   "cell_type": "markdown",
   "metadata": {},
   "source": [
    "# Solución \n",
    "1.- Primero realizamos el diagrama de cuerpo libre tanto del carrito y del péndulo, para determinar sus ecuaciones de movimiento: <dt> \n",
    "    "
   ]
  },
  {
   "cell_type": "markdown",
   "metadata": {},
   "source": [
    "# DCL: Del carro\n",
    "![title](G6-DCL1.jpg)\n"
   ]
  },
  {
   "cell_type": "markdown",
   "metadata": {},
   "source": [
    "Sumatoria en el eje x <dt> $$\\sum\\overrightarrow{ F_{x}}=m\\overrightarrow{a_{x}}$$ <dt> $$F-T\\sin(\\theta)=mc\\ddot{x}$$ \n",
    "\n",
    " \n"
   ]
  },
  {
   "cell_type": "markdown",
   "metadata": {},
   "source": [
    "# DCL: Péndulo\n",
    "![title](G6-DCL2.jpeg)"
   ]
  },
  {
   "cell_type": "markdown",
   "metadata": {},
   "source": [
    "Sumatoria en el eje x: <dt> $$\\sum\\overrightarrow{ F_{x}}=m\\overrightarrow{a_{x}}$$ <dt> $$T\\sin(\\theta)=m_pa_{px}$$ <dt> Sumatoria en el eje y: <dt> $$\\sum\\overrightarrow{ F_{y}}=m\\overrightarrow{a_{y}}$$ <dt> $$-T\\cos(\\theta)-m_pg=m_pa_{py}$$"
   ]
  },
  {
   "cell_type": "markdown",
   "metadata": {},
   "source": [
    ">Como se pudo observar para la obtención de las ecuaciones del movimiento se utilizó un sistema inercial x y y."
   ]
  },
  {
   "cell_type": "markdown",
   "metadata": {},
   "source": [
    "Ahora determinamos ap: <dt> Tenemos:"
   ]
  },
  {
   "cell_type": "markdown",
   "metadata": {},
   "source": [
    "![title](G6-sis.jpg)"
   ]
  },
  {
   "cell_type": "markdown",
   "metadata": {},
   "source": [
    "$$\\overrightarrow{a_{p}}=\\overrightarrow{a_{c}}+\\overrightarrow{a_{er}}+\\overrightarrow{a_{e\\theta}}$$ <dt> $$\\overrightarrow{a_{p}}=\\ddot{x}\\overrightarrow{i}+(\\ddot{r}-r\\dot{\\theta}^2)\\overrightarrow{er}+(r\\ddot{\\theta}+2\\dot{r}\\dot{\\theta})\\overrightarrow{e\\theta}$$ <dt> \n",
    "    \n",
    "$$\\overrightarrow{a_{p}}=\\ddot{x}\\overrightarrow{i}-r\\dot{\\theta}^2\\overrightarrow{er}+r\\ddot{\\theta}\\overrightarrow{e\\theta}$$\n",
    "<dt>\n",
    "$$\\overrightarrow{a_{p}}=\\ddot{x}\\overrightarrow{i}-L\\dot{\\theta}^2\\overrightarrow{er}+L\\ddot{\\theta}\\overrightarrow{e\\theta}$$ <dt> Descomponemos los unitario:<dt> $$\\overrightarrow{a_{p}}=\\ddot{x}\\overrightarrow{i}+L\\ddot{\\theta}(-\\cos(\\theta)\\overrightarrow{i}-\\sin(\\theta)\\overrightarrow{j})-L\\dot{\\theta}^2(-\\sin(\\theta)\\overrightarrow{i}+\\cos(\\theta)\\overrightarrow{j})$$<dt> $$\\overrightarrow{a_{p}}=[\\ddot{x}-L\\ddot{\\theta}\\cos(\\theta)+L\\dot{\\theta}^2\\sin(\\theta)]\\overrightarrow{i}+[-L\\ddot{\\theta}\\sin(\\theta)-L\\dot{\\theta}^2\\sin(\\theta)]\\overrightarrow{j}$$\n",
    " \n",
    "         \n",
    "<dt> \n",
    "    Remplazamos esta aceleración en las ecuaciones del péndulo: <dt> En X: <dt>\n",
    "    $$T\\sin\\theta=m_p\\ddot{x}-m_pL\\ddot{\\theta}\\cos\\theta+m_pL\\dot\\theta^2\\sin\\theta$$ <dt> En Y: <dt> $$-T\\cos\\theta-m_pg=-m_pL\\ddot{\\theta}\\sin\\theta-m_pL\\dot\\theta^2\\cos\\theta$$\n",
    "<dt> Realizamos un arreglo matemático que consiste a la primera ecuación multiplicarla toda por un coseno y a la segunda ecuación toda por un seno y posteriormente sumar ambas ecuaciones:\n",
    "    <dt> $$T\\sin\\theta\\cos\\theta=m_p\\ddot{x}\\cos\\theta-m_pL\\ddot{\\theta}(\\cos\\theta)^2+m_pL\\dot{\\theta}^2\\sin\\theta\\cos\\theta$$ \n",
    "    <dt> $$-T \\sin\\theta\\cos\\theta -m_pg\\sin\\theta=-m_pL\\ddot{\\theta}(\\sin\\theta)^2-m_pL\\dot{\\theta}^2\\sin\\theta\\cos\\theta$$ <dt> $$\\rule{120mm}{0.5mm}$$ <dt> $$-m_pg\\sin\\theta=m_p\\ddot{x}\\cos\\theta-m_pL\\ddot{\\theta}$$ <dt> Entonces: $$L\\ddot{\\theta}-\\ddot{x}\\cos\\theta-g\\sin\\theta=0$$ <dt> Para determinar la fuerza despejamos la tensión de la ecuación del carro y lo remplazamos en la ecuación de la polea teniendo: <dt> $$F=(m_p+m_c)\\ddot{x}-m_pL\\ddot{\\theta}\\cos\\theta+m_pL\\dot{\\theta}^{2}\\sin{\\theta}$$\n",
    "    \n",
    "\n",
    "    "
   ]
  },
  {
   "cell_type": "markdown",
   "metadata": {},
   "source": [
    ">Para esta situación se utiliza un sistema no inercial radial transversal con la finalidad de obtener la aceleración del péndulo.\n",
    "\n",
    "Ecuaciones del movimiento: <dt>\n",
    "    1.-$L\\ddot{\\theta}-\\ddot{x}\\cos\\theta-g\\sin\\theta=0$ <dt>\n",
    "    2.-$F=(m_p+m_c)\\ddot{x}-m_pL\\ddot{\\theta}\\cos\\theta+m_pL\\dot{\\theta}^2\\sin\\theta$"
   ]
  },
  {
   "cell_type": "markdown",
   "metadata": {},
   "source": [
    "# Método de Lagrange \n",
    "![title](lag-G6.jpeg)\n",
    "\n",
    "Análisis de las coordenadas a utilizar\n",
    "\n",
    "Para la resolución de nuestro ejercicio se selecciona el sistema de coordenadas x y theta las cuales son necesarias para definir la posición del mecanismo en todo momento. Donde la coordenada x está en la dirección del movimiento del carro y theta es positiva en contra de las manecillas del reloj y parte desde una recta la cual se encuentra perpendicular al eje x. \n",
    "A continuación, se verifica si las coordenadas cumplen las condiciones:\n",
    "\n",
    "•\tIndependientes:\n",
    "Las coordenadas x y theta seleccionadas para el ejercicio cumplen la condición de independientes ya que si se fija x la coordenada theta puede tener rango de movimiento completo libre y viceversa.\n",
    "\n",
    "•\tCompletos:\n",
    "Estas coordenadas cumplen con la condición de ser completas ya que permite localizar todas las partes del sistema todo el tiempo.\n",
    "\n",
    "•\tSistema Holonómico:\n",
    "Estas coordenadas cumplen con la condición de sistema holonómico ya que conocemos que los grados de libertad de nuestro ejercicio son 2 y estas son iguales a las coordenadas con las que se describirá el movimiento.\n"
   ]
  },
  {
   "cell_type": "markdown",
   "metadata": {},
   "source": [
    "# Solución \n",
    "1.- Pocisión para mp (masa del péndulo) \n",
    "![title](distancias-G6.jpeg)\n",
    "\n"
   ]
  },
  {
   "cell_type": "markdown",
   "metadata": {},
   "source": [
    "\n",
    "\n",
    "$$X_{mp}=X-L*sin(\\theta)$$\n",
    "$$Y_{mp}=L*cos(\\theta)$$\n",
    "\n",
    "obtenemos la velocidad:\n",
    "\n",
    "$$\\dot{X}_{mp}=\\dot{X}-L*\\dot{\\theta}*cos(\\theta)$$\n",
    "$$\\dot{Y}_{mp}=-L*sin(\\theta)*\\dot{\\theta}$$\n",
    "\n",
    "# Análisis de energías\n",
    "\n",
    "3.- Energia Potencial\n",
    "\n",
    "$$V=mgYmp=mgLcos({\\theta})$$\n",
    "\n",
    "4.- Energia Cinética \n",
    "\n",
    "$$T=\\frac{1}{2}*mc\\dot{X}^{2}+\\frac{1}{2}*mp(\\dot{X}mp^{2}+\\dot{Y}mp^{2})$$ <dt>\n",
    "$$=\\frac{1}{2}*mc\\dot{X}^{2}+\\frac{1}{2}*mp(\\dot{X}^{2}-2\\dot{X}*L\\dot{\\theta}cos({\\theta})+L^{2}\\dot{\\theta}^{2}cos^{2}(\\theta)+L^{2}\\dot{\\theta}sin^{2}(\\theta)$$ <dt>\n",
    "$$=\\frac{1}{2}mc\\dot{X}^{2}+\\frac{1}{2}*mp(\\dot{X}^{2}-2\\dot{X}*L\\dot{\\theta}cos({\\theta})+L^{2}\\dot{\\theta}^{2}$$\n",
    "$$=\\frac{1}{2}(mc+mp)\\dot{X}^{2}-mp\\dot{X}L\\dot{\\theta}cos{\\theta}+\\frac{1}{2}mpL^{2}\\dot{\\theta}^{2}$$<dt>\n",
    "    \n",
    "# Si el método de lagrange nos indica <dt>\n",
    "$$\\frac{d}{dq}(\\frac{\\partial{L}}{\\partial{\\dot{q}i}})-\\frac{\\partial{L}}{\\partial{qi}}=Qi$$\n",
    "Si se conoce que el lagrangiano es: $$\\mathscr{L}=T-V$$ <dt> Remplazando <dt>\n",
    "$$\\mathscr{L}=\\frac{1}{2}(mc+mp)\\dot{X}^{2}+\\frac{1}{2}mpL^{2}\\dot{\\theta}^{2}-mpL\\dot{\\theta}\\dot{X}cos({\\theta})-mpLcos({\\theta})$$ <dt> Obtenemos las ecuaciones del movimiento: <dt> \n",
    "    $$\\frac{\\partial}{\\partial{t}}(\\frac{\\partial{L}}{\\partial{\\dot{x}}})=Q_x$$\n",
    "   \n"
   ]
  },
  {
   "cell_type": "markdown",
   "metadata": {},
   "source": [
    ">Derivamos para nuestra primera coordenada :$$\\dot{q}_1=\\dot{x}$$ y luego para el tiempo  \n",
    "\n",
    "    \n",
    "$$(mp+mc)\\ddot{X}-(mL\\ddot{\\theta}cos{\\theta}-mL\\dot{\\theta}^{2}sin({\\theta}))=F(t)$$\n",
    "$$(mp+mc)\\ddot{X}-m_pL\\ddot{\\theta}cos{\\theta}+m_pL\\dot{\\theta}^{2}sin({\\theta})=F(t)$$\n",
    "\n",
    "\n",
    "$$\\frac{\\partial}{\\partial{q}}(\\frac{\\partial{L}}{\\partial{\\dot{\\theta}}})-\\frac{\\partial{L}}{\\partial{\\theta}}=Q_\\theta$$\n",
    "\n",
    ">Derivamos para nuestra segunda coordenada  :$$\\dot{q}_2=\\dot{\\theta}$$ y luego para el tiempo  \n",
    "\n",
    "$$mpL^{2}\\dot{\\theta}^{2}-mpL\\ddot{X}cos{\\theta}+mpL\\dot{X}\\dot{\\theta}sen({\\theta})-m_pL\\dot{\\theta}\\dot{X}sen({\\theta})-m_pgLsen({\\theta})=0$$\n",
    "Entonces:\n",
    "$$mpl^{2}-mpL\\ddot{X}cos({\\theta})-mpgLsen({\\theta})=0 $$\n",
    "Ecuaciones del movimiento: <dt>\n",
    "    1.-$L\\ddot{\\theta}-\\ddot{x}\\cos\\theta-g\\sin\\theta=0$ <dt>\n",
    "    2.-$F=(m_p+m_c)\\ddot{x}-m_pL\\ddot{\\theta}\\cos\\theta+m_pL\\dot{\\theta}^2\\sin\\theta$"
   ]
  },
  {
   "cell_type": "markdown",
   "metadata": {},
   "source": [
    "# Gráfica \n",
    "Energía potencial del péndulo vs el ángulo"
   ]
  },
  {
   "cell_type": "code",
   "execution_count": 6,
   "metadata": {
    "jupyter": {
     "source_hidden": true
    },
    "tags": []
   },
   "outputs": [
    {
     "data": {
      "application/vnd.plotly.v1+json": {
       "config": {
        "plotlyServerURL": "https://plot.ly"
       },
       "data": [
        {
         "hovertemplate": "Ángulo [grados]=%{x}<br>Energía Potencial[J]=%{y}<extra></extra>",
         "legendgroup": "",
         "line": {
          "color": "#636efa",
          "dash": "solid"
         },
         "mode": "lines",
         "name": "",
         "orientation": "v",
         "showlegend": false,
         "type": "scatter",
         "x": [
          -90,
          -85,
          -80,
          -75,
          -70,
          -65,
          -60,
          -55,
          -50,
          -45,
          -40,
          -35,
          -30,
          -25,
          -20,
          -15,
          -10,
          -5,
          0,
          5,
          10,
          15,
          20,
          25,
          30,
          35,
          40,
          45,
          50,
          55,
          60,
          65,
          70,
          75,
          80,
          85,
          90
         ],
         "xaxis": "x",
         "y": [
          9.010338824726652e-17,
          0.12824967545317928,
          0.2555232934368881,
          0.3808522248683593,
          0.5032826409037217,
          0.6218827721514393,
          0.7357500000000001,
          0.8440177260905642,
          0.9458619676537426,
          1.0405076285160049,
          1.1272343980495763,
          1.2053822331712514,
          1.2743563816688015,
          1.3336319086244304,
          1.3827576914864643,
          1.421359853384364,
          1.4491446085574642,
          1.4659004982420036,
          1.4715,
          1.4659004982420036,
          1.4491446085574642,
          1.421359853384364,
          1.3827576914864643,
          1.3336319086244304,
          1.2743563816688015,
          1.2053822331712514,
          1.1272343980495763,
          1.0405076285160049,
          0.9458619676537426,
          0.8440177260905642,
          0.7357500000000001,
          0.6218827721514393,
          0.5032826409037217,
          0.3808522248683593,
          0.2555232934368881,
          0.12824967545317928,
          9.010338824726652e-17
         ],
         "yaxis": "y"
        }
       ],
       "layout": {
        "autosize": true,
        "legend": {
         "tracegroupgap": 0
        },
        "template": {
         "data": {
          "bar": [
           {
            "error_x": {
             "color": "#2a3f5f"
            },
            "error_y": {
             "color": "#2a3f5f"
            },
            "marker": {
             "line": {
              "color": "#E5ECF6",
              "width": 0.5
             }
            },
            "type": "bar"
           }
          ],
          "barpolar": [
           {
            "marker": {
             "line": {
              "color": "#E5ECF6",
              "width": 0.5
             }
            },
            "type": "barpolar"
           }
          ],
          "carpet": [
           {
            "aaxis": {
             "endlinecolor": "#2a3f5f",
             "gridcolor": "white",
             "linecolor": "white",
             "minorgridcolor": "white",
             "startlinecolor": "#2a3f5f"
            },
            "baxis": {
             "endlinecolor": "#2a3f5f",
             "gridcolor": "white",
             "linecolor": "white",
             "minorgridcolor": "white",
             "startlinecolor": "#2a3f5f"
            },
            "type": "carpet"
           }
          ],
          "choropleth": [
           {
            "colorbar": {
             "outlinewidth": 0,
             "ticks": ""
            },
            "type": "choropleth"
           }
          ],
          "contour": [
           {
            "colorbar": {
             "outlinewidth": 0,
             "ticks": ""
            },
            "colorscale": [
             [
              0,
              "#0d0887"
             ],
             [
              0.1111111111111111,
              "#46039f"
             ],
             [
              0.2222222222222222,
              "#7201a8"
             ],
             [
              0.3333333333333333,
              "#9c179e"
             ],
             [
              0.4444444444444444,
              "#bd3786"
             ],
             [
              0.5555555555555556,
              "#d8576b"
             ],
             [
              0.6666666666666666,
              "#ed7953"
             ],
             [
              0.7777777777777778,
              "#fb9f3a"
             ],
             [
              0.8888888888888888,
              "#fdca26"
             ],
             [
              1,
              "#f0f921"
             ]
            ],
            "type": "contour"
           }
          ],
          "contourcarpet": [
           {
            "colorbar": {
             "outlinewidth": 0,
             "ticks": ""
            },
            "type": "contourcarpet"
           }
          ],
          "heatmap": [
           {
            "colorbar": {
             "outlinewidth": 0,
             "ticks": ""
            },
            "colorscale": [
             [
              0,
              "#0d0887"
             ],
             [
              0.1111111111111111,
              "#46039f"
             ],
             [
              0.2222222222222222,
              "#7201a8"
             ],
             [
              0.3333333333333333,
              "#9c179e"
             ],
             [
              0.4444444444444444,
              "#bd3786"
             ],
             [
              0.5555555555555556,
              "#d8576b"
             ],
             [
              0.6666666666666666,
              "#ed7953"
             ],
             [
              0.7777777777777778,
              "#fb9f3a"
             ],
             [
              0.8888888888888888,
              "#fdca26"
             ],
             [
              1,
              "#f0f921"
             ]
            ],
            "type": "heatmap"
           }
          ],
          "heatmapgl": [
           {
            "colorbar": {
             "outlinewidth": 0,
             "ticks": ""
            },
            "colorscale": [
             [
              0,
              "#0d0887"
             ],
             [
              0.1111111111111111,
              "#46039f"
             ],
             [
              0.2222222222222222,
              "#7201a8"
             ],
             [
              0.3333333333333333,
              "#9c179e"
             ],
             [
              0.4444444444444444,
              "#bd3786"
             ],
             [
              0.5555555555555556,
              "#d8576b"
             ],
             [
              0.6666666666666666,
              "#ed7953"
             ],
             [
              0.7777777777777778,
              "#fb9f3a"
             ],
             [
              0.8888888888888888,
              "#fdca26"
             ],
             [
              1,
              "#f0f921"
             ]
            ],
            "type": "heatmapgl"
           }
          ],
          "histogram": [
           {
            "marker": {
             "colorbar": {
              "outlinewidth": 0,
              "ticks": ""
             }
            },
            "type": "histogram"
           }
          ],
          "histogram2d": [
           {
            "colorbar": {
             "outlinewidth": 0,
             "ticks": ""
            },
            "colorscale": [
             [
              0,
              "#0d0887"
             ],
             [
              0.1111111111111111,
              "#46039f"
             ],
             [
              0.2222222222222222,
              "#7201a8"
             ],
             [
              0.3333333333333333,
              "#9c179e"
             ],
             [
              0.4444444444444444,
              "#bd3786"
             ],
             [
              0.5555555555555556,
              "#d8576b"
             ],
             [
              0.6666666666666666,
              "#ed7953"
             ],
             [
              0.7777777777777778,
              "#fb9f3a"
             ],
             [
              0.8888888888888888,
              "#fdca26"
             ],
             [
              1,
              "#f0f921"
             ]
            ],
            "type": "histogram2d"
           }
          ],
          "histogram2dcontour": [
           {
            "colorbar": {
             "outlinewidth": 0,
             "ticks": ""
            },
            "colorscale": [
             [
              0,
              "#0d0887"
             ],
             [
              0.1111111111111111,
              "#46039f"
             ],
             [
              0.2222222222222222,
              "#7201a8"
             ],
             [
              0.3333333333333333,
              "#9c179e"
             ],
             [
              0.4444444444444444,
              "#bd3786"
             ],
             [
              0.5555555555555556,
              "#d8576b"
             ],
             [
              0.6666666666666666,
              "#ed7953"
             ],
             [
              0.7777777777777778,
              "#fb9f3a"
             ],
             [
              0.8888888888888888,
              "#fdca26"
             ],
             [
              1,
              "#f0f921"
             ]
            ],
            "type": "histogram2dcontour"
           }
          ],
          "mesh3d": [
           {
            "colorbar": {
             "outlinewidth": 0,
             "ticks": ""
            },
            "type": "mesh3d"
           }
          ],
          "parcoords": [
           {
            "line": {
             "colorbar": {
              "outlinewidth": 0,
              "ticks": ""
             }
            },
            "type": "parcoords"
           }
          ],
          "pie": [
           {
            "automargin": true,
            "type": "pie"
           }
          ],
          "scatter": [
           {
            "marker": {
             "colorbar": {
              "outlinewidth": 0,
              "ticks": ""
             }
            },
            "type": "scatter"
           }
          ],
          "scatter3d": [
           {
            "line": {
             "colorbar": {
              "outlinewidth": 0,
              "ticks": ""
             }
            },
            "marker": {
             "colorbar": {
              "outlinewidth": 0,
              "ticks": ""
             }
            },
            "type": "scatter3d"
           }
          ],
          "scattercarpet": [
           {
            "marker": {
             "colorbar": {
              "outlinewidth": 0,
              "ticks": ""
             }
            },
            "type": "scattercarpet"
           }
          ],
          "scattergeo": [
           {
            "marker": {
             "colorbar": {
              "outlinewidth": 0,
              "ticks": ""
             }
            },
            "type": "scattergeo"
           }
          ],
          "scattergl": [
           {
            "marker": {
             "colorbar": {
              "outlinewidth": 0,
              "ticks": ""
             }
            },
            "type": "scattergl"
           }
          ],
          "scattermapbox": [
           {
            "marker": {
             "colorbar": {
              "outlinewidth": 0,
              "ticks": ""
             }
            },
            "type": "scattermapbox"
           }
          ],
          "scatterpolar": [
           {
            "marker": {
             "colorbar": {
              "outlinewidth": 0,
              "ticks": ""
             }
            },
            "type": "scatterpolar"
           }
          ],
          "scatterpolargl": [
           {
            "marker": {
             "colorbar": {
              "outlinewidth": 0,
              "ticks": ""
             }
            },
            "type": "scatterpolargl"
           }
          ],
          "scatterternary": [
           {
            "marker": {
             "colorbar": {
              "outlinewidth": 0,
              "ticks": ""
             }
            },
            "type": "scatterternary"
           }
          ],
          "surface": [
           {
            "colorbar": {
             "outlinewidth": 0,
             "ticks": ""
            },
            "colorscale": [
             [
              0,
              "#0d0887"
             ],
             [
              0.1111111111111111,
              "#46039f"
             ],
             [
              0.2222222222222222,
              "#7201a8"
             ],
             [
              0.3333333333333333,
              "#9c179e"
             ],
             [
              0.4444444444444444,
              "#bd3786"
             ],
             [
              0.5555555555555556,
              "#d8576b"
             ],
             [
              0.6666666666666666,
              "#ed7953"
             ],
             [
              0.7777777777777778,
              "#fb9f3a"
             ],
             [
              0.8888888888888888,
              "#fdca26"
             ],
             [
              1,
              "#f0f921"
             ]
            ],
            "type": "surface"
           }
          ],
          "table": [
           {
            "cells": {
             "fill": {
              "color": "#EBF0F8"
             },
             "line": {
              "color": "white"
             }
            },
            "header": {
             "fill": {
              "color": "#C8D4E3"
             },
             "line": {
              "color": "white"
             }
            },
            "type": "table"
           }
          ]
         },
         "layout": {
          "annotationdefaults": {
           "arrowcolor": "#2a3f5f",
           "arrowhead": 0,
           "arrowwidth": 1
          },
          "autotypenumbers": "strict",
          "coloraxis": {
           "colorbar": {
            "outlinewidth": 0,
            "ticks": ""
           }
          },
          "colorscale": {
           "diverging": [
            [
             0,
             "#8e0152"
            ],
            [
             0.1,
             "#c51b7d"
            ],
            [
             0.2,
             "#de77ae"
            ],
            [
             0.3,
             "#f1b6da"
            ],
            [
             0.4,
             "#fde0ef"
            ],
            [
             0.5,
             "#f7f7f7"
            ],
            [
             0.6,
             "#e6f5d0"
            ],
            [
             0.7,
             "#b8e186"
            ],
            [
             0.8,
             "#7fbc41"
            ],
            [
             0.9,
             "#4d9221"
            ],
            [
             1,
             "#276419"
            ]
           ],
           "sequential": [
            [
             0,
             "#0d0887"
            ],
            [
             0.1111111111111111,
             "#46039f"
            ],
            [
             0.2222222222222222,
             "#7201a8"
            ],
            [
             0.3333333333333333,
             "#9c179e"
            ],
            [
             0.4444444444444444,
             "#bd3786"
            ],
            [
             0.5555555555555556,
             "#d8576b"
            ],
            [
             0.6666666666666666,
             "#ed7953"
            ],
            [
             0.7777777777777778,
             "#fb9f3a"
            ],
            [
             0.8888888888888888,
             "#fdca26"
            ],
            [
             1,
             "#f0f921"
            ]
           ],
           "sequentialminus": [
            [
             0,
             "#0d0887"
            ],
            [
             0.1111111111111111,
             "#46039f"
            ],
            [
             0.2222222222222222,
             "#7201a8"
            ],
            [
             0.3333333333333333,
             "#9c179e"
            ],
            [
             0.4444444444444444,
             "#bd3786"
            ],
            [
             0.5555555555555556,
             "#d8576b"
            ],
            [
             0.6666666666666666,
             "#ed7953"
            ],
            [
             0.7777777777777778,
             "#fb9f3a"
            ],
            [
             0.8888888888888888,
             "#fdca26"
            ],
            [
             1,
             "#f0f921"
            ]
           ]
          },
          "colorway": [
           "#636efa",
           "#EF553B",
           "#00cc96",
           "#ab63fa",
           "#FFA15A",
           "#19d3f3",
           "#FF6692",
           "#B6E880",
           "#FF97FF",
           "#FECB52"
          ],
          "font": {
           "color": "#2a3f5f"
          },
          "geo": {
           "bgcolor": "white",
           "lakecolor": "white",
           "landcolor": "#E5ECF6",
           "showlakes": true,
           "showland": true,
           "subunitcolor": "white"
          },
          "hoverlabel": {
           "align": "left"
          },
          "hovermode": "closest",
          "mapbox": {
           "style": "light"
          },
          "paper_bgcolor": "white",
          "plot_bgcolor": "#E5ECF6",
          "polar": {
           "angularaxis": {
            "gridcolor": "white",
            "linecolor": "white",
            "ticks": ""
           },
           "bgcolor": "#E5ECF6",
           "radialaxis": {
            "gridcolor": "white",
            "linecolor": "white",
            "ticks": ""
           }
          },
          "scene": {
           "xaxis": {
            "backgroundcolor": "#E5ECF6",
            "gridcolor": "white",
            "gridwidth": 2,
            "linecolor": "white",
            "showbackground": true,
            "ticks": "",
            "zerolinecolor": "white"
           },
           "yaxis": {
            "backgroundcolor": "#E5ECF6",
            "gridcolor": "white",
            "gridwidth": 2,
            "linecolor": "white",
            "showbackground": true,
            "ticks": "",
            "zerolinecolor": "white"
           },
           "zaxis": {
            "backgroundcolor": "#E5ECF6",
            "gridcolor": "white",
            "gridwidth": 2,
            "linecolor": "white",
            "showbackground": true,
            "ticks": "",
            "zerolinecolor": "white"
           }
          },
          "shapedefaults": {
           "line": {
            "color": "#2a3f5f"
           }
          },
          "ternary": {
           "aaxis": {
            "gridcolor": "white",
            "linecolor": "white",
            "ticks": ""
           },
           "baxis": {
            "gridcolor": "white",
            "linecolor": "white",
            "ticks": ""
           },
           "bgcolor": "#E5ECF6",
           "caxis": {
            "gridcolor": "white",
            "linecolor": "white",
            "ticks": ""
           }
          },
          "title": {
           "x": 0.05
          },
          "xaxis": {
           "automargin": true,
           "gridcolor": "white",
           "linecolor": "white",
           "ticks": "",
           "title": {
            "standoff": 15
           },
           "zerolinecolor": "white",
           "zerolinewidth": 2
          },
          "yaxis": {
           "automargin": true,
           "gridcolor": "white",
           "linecolor": "white",
           "ticks": "",
           "title": {
            "standoff": 15
           },
           "zerolinecolor": "white",
           "zerolinewidth": 2
          }
         }
        },
        "title": {
         "text": "Energía potencial vs angulo"
        },
        "xaxis": {
         "anchor": "y",
         "autorange": true,
         "domain": [
          0,
          1
         ],
         "range": [
          -90,
          90
         ],
         "title": {
          "text": "Ángulo [grados]"
         },
         "type": "linear"
        },
        "yaxis": {
         "anchor": "x",
         "autorange": true,
         "domain": [
          0,
          1
         ],
         "range": [
          -0.08174999999999992,
          1.55325
         ],
         "title": {
          "text": "Energía Potencial[J]"
         },
         "type": "linear"
        }
       }
      },
      "image/png": "[encoded data removed]",
      "text/html": [
       "<div>                            <div id=\"ba378c72-a4a6-4a54-9a55-912714629307\" class=\"plotly-graph-div\" style=\"height:525px; width:100%;\"></div>            <script type=\"text/javascript\">                require([\"plotly\"], function(Plotly) {                    window.PLOTLYENV=window.PLOTLYENV || {};                                    if (document.getElementById(\"ba378c72-a4a6-4a54-9a55-912714629307\")) {                    Plotly.newPlot(                        \"ba378c72-a4a6-4a54-9a55-912714629307\",                        [{\"hovertemplate\": \"\\u00c1ngulo [grados]=%{x}<br>Energ\\u00eda Potencial[J]=%{y}<extra></extra>\", \"legendgroup\": \"\", \"line\": {\"color\": \"#636efa\", \"dash\": \"solid\"}, \"mode\": \"lines\", \"name\": \"\", \"orientation\": \"v\", \"showlegend\": false, \"type\": \"scatter\", \"x\": [-90, -85, -80, -75, -70, -65, -60, -55, -50, -45, -40, -35, -30, -25, -20, -15, -10, -5, 0, 5, 10, 15, 20, 25, 30, 35, 40, 45, 50, 55, 60, 65, 70, 75, 80, 85, 90], \"xaxis\": \"x\", \"y\": [9.010338824726652e-17, 0.12824967545317928, 0.2555232934368881, 0.3808522248683593, 0.5032826409037217, 0.6218827721514393, 0.7357500000000001, 0.8440177260905642, 0.9458619676537426, 1.0405076285160049, 1.1272343980495763, 1.2053822331712514, 1.2743563816688015, 1.3336319086244304, 1.3827576914864643, 1.421359853384364, 1.4491446085574642, 1.4659004982420036, 1.4715, 1.4659004982420036, 1.4491446085574642, 1.421359853384364, 1.3827576914864643, 1.3336319086244304, 1.2743563816688015, 1.2053822331712514, 1.1272343980495763, 1.0405076285160049, 0.9458619676537426, 0.8440177260905642, 0.7357500000000001, 0.6218827721514393, 0.5032826409037217, 0.3808522248683593, 0.2555232934368881, 0.12824967545317928, 9.010338824726652e-17], \"yaxis\": \"y\"}],                        {\"legend\": {\"tracegroupgap\": 0}, \"template\": {\"data\": {\"bar\": [{\"error_x\": {\"color\": \"#2a3f5f\"}, \"error_y\": {\"color\": \"#2a3f5f\"}, \"marker\": {\"line\": {\"color\": \"#E5ECF6\", \"width\": 0.5}}, \"type\": \"bar\"}], \"barpolar\": [{\"marker\": {\"line\": {\"color\": \"#E5ECF6\", \"width\": 0.5}}, \"type\": \"barpolar\"}], \"carpet\": [{\"aaxis\": {\"endlinecolor\": \"#2a3f5f\", \"gridcolor\": \"white\", \"linecolor\": \"white\", \"minorgridcolor\": \"white\", \"startlinecolor\": \"#2a3f5f\"}, \"baxis\": {\"endlinecolor\": \"#2a3f5f\", \"gridcolor\": \"white\", \"linecolor\": \"white\", \"minorgridcolor\": \"white\", \"startlinecolor\": \"#2a3f5f\"}, \"type\": \"carpet\"}], \"choropleth\": [{\"colorbar\": {\"outlinewidth\": 0, \"ticks\": \"\"}, \"type\": \"choropleth\"}], \"contour\": [{\"colorbar\": {\"outlinewidth\": 0, \"ticks\": \"\"}, \"colorscale\": [[0.0, \"#0d0887\"], [0.1111111111111111, \"#46039f\"], [0.2222222222222222, \"#7201a8\"], [0.3333333333333333, \"#9c179e\"], [0.4444444444444444, \"#bd3786\"], [0.5555555555555556, \"#d8576b\"], [0.6666666666666666, \"#ed7953\"], [0.7777777777777778, \"#fb9f3a\"], [0.8888888888888888, \"#fdca26\"], [1.0, \"#f0f921\"]], \"type\": \"contour\"}], \"contourcarpet\": [{\"colorbar\": {\"outlinewidth\": 0, \"ticks\": \"\"}, \"type\": \"contourcarpet\"}], \"heatmap\": [{\"colorbar\": {\"outlinewidth\": 0, \"ticks\": \"\"}, \"colorscale\": [[0.0, \"#0d0887\"], [0.1111111111111111, \"#46039f\"], [0.2222222222222222, \"#7201a8\"], [0.3333333333333333, \"#9c179e\"], [0.4444444444444444, \"#bd3786\"], [0.5555555555555556, \"#d8576b\"], [0.6666666666666666, \"#ed7953\"], [0.7777777777777778, \"#fb9f3a\"], [0.8888888888888888, \"#fdca26\"], [1.0, \"#f0f921\"]], \"type\": \"heatmap\"}], \"heatmapgl\": [{\"colorbar\": {\"outlinewidth\": 0, \"ticks\": \"\"}, \"colorscale\": [[0.0, \"#0d0887\"], [0.1111111111111111, \"#46039f\"], [0.2222222222222222, \"#7201a8\"], [0.3333333333333333, \"#9c179e\"], [0.4444444444444444, \"#bd3786\"], [0.5555555555555556, \"#d8576b\"], [0.6666666666666666, \"#ed7953\"], [0.7777777777777778, \"#fb9f3a\"], [0.8888888888888888, \"#fdca26\"], [1.0, \"#f0f921\"]], \"type\": \"heatmapgl\"}], \"histogram\": [{\"marker\": {\"colorbar\": {\"outlinewidth\": 0, \"ticks\": \"\"}}, \"type\": \"histogram\"}], \"histogram2d\": [{\"colorbar\": {\"outlinewidth\": 0, \"ticks\": \"\"}, \"colorscale\": [[0.0, \"#0d0887\"], [0.1111111111111111, \"#46039f\"], [0.2222222222222222, \"#7201a8\"], [0.3333333333333333, \"#9c179e\"], [0.4444444444444444, \"#bd3786\"], [0.5555555555555556, \"#d8576b\"], [0.6666666666666666, \"#ed7953\"], [0.7777777777777778, \"#fb9f3a\"], [0.8888888888888888, \"#fdca26\"], [1.0, \"#f0f921\"]], \"type\": \"histogram2d\"}], \"histogram2dcontour\": [{\"colorbar\": {\"outlinewidth\": 0, \"ticks\": \"\"}, \"colorscale\": [[0.0, \"#0d0887\"], [0.1111111111111111, \"#46039f\"], [0.2222222222222222, \"#7201a8\"], [0.3333333333333333, \"#9c179e\"], [0.4444444444444444, \"#bd3786\"], [0.5555555555555556, \"#d8576b\"], [0.6666666666666666, \"#ed7953\"], [0.7777777777777778, \"#fb9f3a\"], [0.8888888888888888, \"#fdca26\"], [1.0, \"#f0f921\"]], \"type\": \"histogram2dcontour\"}], \"mesh3d\": [{\"colorbar\": {\"outlinewidth\": 0, \"ticks\": \"\"}, \"type\": \"mesh3d\"}], \"parcoords\": [{\"line\": {\"colorbar\": {\"outlinewidth\": 0, \"ticks\": \"\"}}, \"type\": \"parcoords\"}], \"pie\": [{\"automargin\": true, \"type\": \"pie\"}], \"scatter\": [{\"marker\": {\"colorbar\": {\"outlinewidth\": 0, \"ticks\": \"\"}}, \"type\": \"scatter\"}], \"scatter3d\": [{\"line\": {\"colorbar\": {\"outlinewidth\": 0, \"ticks\": \"\"}}, \"marker\": {\"colorbar\": {\"outlinewidth\": 0, \"ticks\": \"\"}}, \"type\": \"scatter3d\"}], \"scattercarpet\": [{\"marker\": {\"colorbar\": {\"outlinewidth\": 0, \"ticks\": \"\"}}, \"type\": \"scattercarpet\"}], \"scattergeo\": [{\"marker\": {\"colorbar\": {\"outlinewidth\": 0, \"ticks\": \"\"}}, \"type\": \"scattergeo\"}], \"scattergl\": [{\"marker\": {\"colorbar\": {\"outlinewidth\": 0, \"ticks\": \"\"}}, \"type\": \"scattergl\"}], \"scattermapbox\": [{\"marker\": {\"colorbar\": {\"outlinewidth\": 0, \"ticks\": \"\"}}, \"type\": \"scattermapbox\"}], \"scatterpolar\": [{\"marker\": {\"colorbar\": {\"outlinewidth\": 0, \"ticks\": \"\"}}, \"type\": \"scatterpolar\"}], \"scatterpolargl\": [{\"marker\": {\"colorbar\": {\"outlinewidth\": 0, \"ticks\": \"\"}}, \"type\": \"scatterpolargl\"}], \"scatterternary\": [{\"marker\": {\"colorbar\": {\"outlinewidth\": 0, \"ticks\": \"\"}}, \"type\": \"scatterternary\"}], \"surface\": [{\"colorbar\": {\"outlinewidth\": 0, \"ticks\": \"\"}, \"colorscale\": [[0.0, \"#0d0887\"], [0.1111111111111111, \"#46039f\"], [0.2222222222222222, \"#7201a8\"], [0.3333333333333333, \"#9c179e\"], [0.4444444444444444, \"#bd3786\"], [0.5555555555555556, \"#d8576b\"], [0.6666666666666666, \"#ed7953\"], [0.7777777777777778, \"#fb9f3a\"], [0.8888888888888888, \"#fdca26\"], [1.0, \"#f0f921\"]], \"type\": \"surface\"}], \"table\": [{\"cells\": {\"fill\": {\"color\": \"#EBF0F8\"}, \"line\": {\"color\": \"white\"}}, \"header\": {\"fill\": {\"color\": \"#C8D4E3\"}, \"line\": {\"color\": \"white\"}}, \"type\": \"table\"}]}, \"layout\": {\"annotationdefaults\": {\"arrowcolor\": \"#2a3f5f\", \"arrowhead\": 0, \"arrowwidth\": 1}, \"autotypenumbers\": \"strict\", \"coloraxis\": {\"colorbar\": {\"outlinewidth\": 0, \"ticks\": \"\"}}, \"colorscale\": {\"diverging\": [[0, \"#8e0152\"], [0.1, \"#c51b7d\"], [0.2, \"#de77ae\"], [0.3, \"#f1b6da\"], [0.4, \"#fde0ef\"], [0.5, \"#f7f7f7\"], [0.6, \"#e6f5d0\"], [0.7, \"#b8e186\"], [0.8, \"#7fbc41\"], [0.9, \"#4d9221\"], [1, \"#276419\"]], \"sequential\": [[0.0, \"#0d0887\"], [0.1111111111111111, \"#46039f\"], [0.2222222222222222, \"#7201a8\"], [0.3333333333333333, \"#9c179e\"], [0.4444444444444444, \"#bd3786\"], [0.5555555555555556, \"#d8576b\"], [0.6666666666666666, \"#ed7953\"], [0.7777777777777778, \"#fb9f3a\"], [0.8888888888888888, \"#fdca26\"], [1.0, \"#f0f921\"]], \"sequentialminus\": [[0.0, \"#0d0887\"], [0.1111111111111111, \"#46039f\"], [0.2222222222222222, \"#7201a8\"], [0.3333333333333333, \"#9c179e\"], [0.4444444444444444, \"#bd3786\"], [0.5555555555555556, \"#d8576b\"], [0.6666666666666666, \"#ed7953\"], [0.7777777777777778, \"#fb9f3a\"], [0.8888888888888888, \"#fdca26\"], [1.0, \"#f0f921\"]]}, \"colorway\": [\"#636efa\", \"#EF553B\", \"#00cc96\", \"#ab63fa\", \"#FFA15A\", \"#19d3f3\", \"#FF6692\", \"#B6E880\", \"#FF97FF\", \"#FECB52\"], \"font\": {\"color\": \"#2a3f5f\"}, \"geo\": {\"bgcolor\": \"white\", \"lakecolor\": \"white\", \"landcolor\": \"#E5ECF6\", \"showlakes\": true, \"showland\": true, \"subunitcolor\": \"white\"}, \"hoverlabel\": {\"align\": \"left\"}, \"hovermode\": \"closest\", \"mapbox\": {\"style\": \"light\"}, \"paper_bgcolor\": \"white\", \"plot_bgcolor\": \"#E5ECF6\", \"polar\": {\"angularaxis\": {\"gridcolor\": \"white\", \"linecolor\": \"white\", \"ticks\": \"\"}, \"bgcolor\": \"#E5ECF6\", \"radialaxis\": {\"gridcolor\": \"white\", \"linecolor\": \"white\", \"ticks\": \"\"}}, \"scene\": {\"xaxis\": {\"backgroundcolor\": \"#E5ECF6\", \"gridcolor\": \"white\", \"gridwidth\": 2, \"linecolor\": \"white\", \"showbackground\": true, \"ticks\": \"\", \"zerolinecolor\": \"white\"}, \"yaxis\": {\"backgroundcolor\": \"#E5ECF6\", \"gridcolor\": \"white\", \"gridwidth\": 2, \"linecolor\": \"white\", \"showbackground\": true, \"ticks\": \"\", \"zerolinecolor\": \"white\"}, \"zaxis\": {\"backgroundcolor\": \"#E5ECF6\", \"gridcolor\": \"white\", \"gridwidth\": 2, \"linecolor\": \"white\", \"showbackground\": true, \"ticks\": \"\", \"zerolinecolor\": \"white\"}}, \"shapedefaults\": {\"line\": {\"color\": \"#2a3f5f\"}}, \"ternary\": {\"aaxis\": {\"gridcolor\": \"white\", \"linecolor\": \"white\", \"ticks\": \"\"}, \"baxis\": {\"gridcolor\": \"white\", \"linecolor\": \"white\", \"ticks\": \"\"}, \"bgcolor\": \"#E5ECF6\", \"caxis\": {\"gridcolor\": \"white\", \"linecolor\": \"white\", \"ticks\": \"\"}}, \"title\": {\"x\": 0.05}, \"xaxis\": {\"automargin\": true, \"gridcolor\": \"white\", \"linecolor\": \"white\", \"ticks\": \"\", \"title\": {\"standoff\": 15}, \"zerolinecolor\": \"white\", \"zerolinewidth\": 2}, \"yaxis\": {\"automargin\": true, \"gridcolor\": \"white\", \"linecolor\": \"white\", \"ticks\": \"\", \"title\": {\"standoff\": 15}, \"zerolinecolor\": \"white\", \"zerolinewidth\": 2}}}, \"title\": {\"text\": \"Energ\\u00eda potencial vs angulo\"}, \"xaxis\": {\"anchor\": \"y\", \"domain\": [0.0, 1.0], \"title\": {\"text\": \"\\u00c1ngulo [grados]\"}}, \"yaxis\": {\"anchor\": \"x\", \"domain\": [0.0, 1.0], \"title\": {\"text\": \"Energ\\u00eda Potencial[J]\"}}},                        {\"responsive\": true}                    ).then(function(){\n",
       "                            \n",
       "var gd = document.getElementById('ba378c72-a4a6-4a54-9a55-912714629307');\n",
       "var x = new MutationObserver(function (mutations, observer) {{\n",
       "        var display = window.getComputedStyle(gd).display;\n",
       "        if (!display || display === 'none') {{\n",
       "            console.log([gd, 'removed!']);\n",
       "            Plotly.purge(gd);\n",
       "            observer.disconnect();\n",
       "        }}\n",
       "}});\n",
       "\n",
       "// Listen for the removal of the full notebook cells\n",
       "var notebookContainer = gd.closest('#notebook-container');\n",
       "if (notebookContainer) {{\n",
       "    x.observe(notebookContainer, {childList: true});\n",
       "}}\n",
       "\n",
       "// Listen for the clearing of the current output cell\n",
       "var outputEl = gd.closest('.output');\n",
       "if (outputEl) {{\n",
       "    x.observe(outputEl, {childList: true});\n",
       "}}\n",
       "\n",
       "                        })                };                });            </script>        </div>"
      ]
     },
     "metadata": {},
     "output_type": "display_data"
    }
   ],
   "source": [
    "#Datos del ejercicio\n",
    "mp=0.3 #[kg]\n",
    "g=9.81 #[m/s^2]\n",
    "L=0.5   #[m]\n",
    "\n",
    "#Ecuaciones y aálisis\n",
    "ang=np.arange(-90,95,5)\n",
    "V=mp*g*L*np.cos(np.pi*(ang/180))\n",
    "#plot\n",
    "fig=px.line(x=ang,y=V,labels={'x':'Ángulo [grados]','y':'Energía Potencial[J]'},title=\"Energía potencial vs angulo\")\n",
    "fig.show()"
   ]
  },
  {
   "cell_type": "markdown",
   "metadata": {},
   "source": [
    "# Diferencia entre método de las leyes de Newton y Método de lagrange\n",
    "Ambos métodos presentan diferencias entre ellos al momento de realizar la resolución del ejercicio, una de las diferencias es que al resolver el problema mediante la Segunda Ley de Newton este se resuelve mediante el análisis de las fuerzas que existen en los cuerpos, mientras que al utilizar el método del Lagrange este se resuelve mediante el análisis de las energías dentro de cada cuerpo. Otra diferencia entre ellos es que la Mecánica Newtoniana se basa en las tres leyes del movimiento de Newton, mientras que la Mecánica Lagrangiana se basa en el principio de la mínima acción. También se tiene que con las leyes de conservación que tiene el método de Lagrange permite que se pueda derivar las energías utilizadas. A demás el método de Lagrange no utiliza vectores en su desarrollo debido a que las energías son escalares mientras que en el método de segunda ley si utilizan vectores por las fuerzas involucradas, velocidades y aceleraciones.\n",
    "\n",
    "![title](difG6.jpeg)\n"
   ]
  },
  {
   "cell_type": "markdown",
   "metadata": {},
   "source": [
    "# Conclusión: \n",
    "\n",
    "En conclusión para el desarrollo de este ejercicio es más factible realizarlo por el método de la Mecánica Lagrangiana, esto es debido a que se pueden evitar varios análisis al hacerlo por este método. y también una de las ventajas de usar este método, es que nos permite trabajar con escalares y no con vectores. Es por eso que la formulación Lagrangiana simplifica considerablemente muchos problemas físicos, para nuestro problema, en el primer método de las leyes de newton se tuvo que utilizar un sistema de referencia no inercial con la finalidad de analizar la aceleración del péndulo en sus dos ejes y como se pudo observar el análisis era algo complejo ya que se presentaban valores en unitarios distintos, y por tanto se debía realizar algunas operaciones y arreglos matemáticos para obtener las ecuaciones de movimiento, sin embargo, por el segundo método se pudo ver que a ningún momento se realizo un análisis de aceleración, simplemente se obtuvo las energías de cada elemento del sistemas."
   ]
  },
  {
   "cell_type": "code",
   "execution_count": null,
   "metadata": {},
   "outputs": [],
   "source": []
  }
 ],
 "metadata": {
  "kernelspec": {
   "display_name": "Python 3",
   "language": "python",
   "name": "python3"
  },
  "language_info": {
   "codemirror_mode": {
    "name": "ipython",
    "version": 3
   },
   "file_extension": ".py",
   "mimetype": "text/x-python",
   "name": "python",
   "nbconvert_exporter": "python",
   "pygments_lexer": "ipython3",
   "version": "3.8.8"
  }
 },
 "nbformat": 4,
 "nbformat_minor": 4
}
