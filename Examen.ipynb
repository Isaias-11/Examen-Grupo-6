{
 "cells": [
  {
   "cell_type": "code",
   "execution_count": 3,
   "metadata": {},
   "outputs": [],
   "source": [
    "import numpy as np #importar libreria matematica\n",
    "import plotly.express as px #herramienta de plot\n",
    "import plotly.graph_objects as go"
   ]
  },
  {
   "cell_type": "markdown",
   "metadata": {},
   "source": [
    "# Examen \n",
    "\n",
    "![title](G6-Ej.jpeg)\n",
    "\n",
    ">Enunciado del ejercicio\n",
    "\n"
   ]
  },
  {
   "cell_type": "markdown",
   "metadata": {},
   "source": [
    "# Primer método: Ecuaciones del movimiento"
   ]
  },
  {
   "cell_type": "markdown",
   "metadata": {},
   "source": [
    "# Solución \n",
    "1.- Primero realizamos el diagrama de cuerpo libre tanto del carrito y del péndulo, para determinar sus ecuaciones de movimiento: <dt> \n",
    "    "
   ]
  },
  {
   "cell_type": "markdown",
   "metadata": {},
   "source": [
    "# DCL: Del carro\n",
    "![title](G6-DCL1.jpg)\n"
   ]
  },
  {
   "cell_type": "markdown",
   "metadata": {},
   "source": [
    "Sumatoria en el eje x <dt> $$\\sum\\overrightarrow{ F_{x}}=m\\overrightarrow{a_{x}}$$ <dt> $$F-T\\sin(\\theta)=mc\\ddot{x}$$ \n",
    "\n",
    " \n"
   ]
  },
  {
   "cell_type": "markdown",
   "metadata": {},
   "source": [
    "# DCL: Péndulo\n",
    "![title](G6-DCL2.jpeg)"
   ]
  },
  {
   "cell_type": "markdown",
   "metadata": {},
   "source": [
    "Sumatoria en el eje x: <dt> $$\\sum\\overrightarrow{ F_{x}}=m\\overrightarrow{a_{x}}$$ <dt> $$T\\sin(\\theta)=m_pa_{px}$$ <dt> Sumatoria en el eje y: <dt> $$\\sum\\overrightarrow{ F_{y}}=m\\overrightarrow{a_{y}}$$ <dt> $$-T\\cos(\\theta)-m_pg=m_pa_{py}$$"
   ]
  },
  {
   "cell_type": "markdown",
   "metadata": {},
   "source": [
    "Ahora determinamos ap: <dt> Tenemos:"
   ]
  },
  {
   "cell_type": "markdown",
   "metadata": {},
   "source": [
    "![title](G6-sis.jpg)"
   ]
  },
  {
   "cell_type": "markdown",
   "metadata": {},
   "source": [
    "$$\\overrightarrow{a_{p}}=\\overrightarrow{a_{c}}+\\overrightarrow{a_{er}}+\\overrightarrow{a_{e\\theta}}$$ <dt> $$\\overrightarrow{a_{p}}=\\ddot{x}\\overrightarrow{i}+(\\ddot{r}-r\\dot{\\theta}^2)\\overrightarrow{er}+(r\\ddot{\\theta}+2\\dot{r}\\dot{\\theta})\\overrightarrow{e\\theta}$$ <dt> \n",
    "    \n",
    "$$\\overrightarrow{a_{p}}=\\ddot{x}\\overrightarrow{i}-r\\dot{\\theta}^2\\overrightarrow{er}+r\\ddot{\\theta}\\overrightarrow{e\\theta}$$\n",
    "<dt>\n",
    "$$\\overrightarrow{a_{p}}=\\ddot{x}\\overrightarrow{i}-L\\dot{\\theta}^2\\overrightarrow{er}+L\\ddot{\\theta}\\overrightarrow{e\\theta}$$ <dt> Descomponemos los unitario:<dt> $$\\overrightarrow{a_{p}}=\\ddot{x}\\overrightarrow{i}+L\\ddot{\\theta}(-\\cos(\\theta)\\overrightarrow{i}-\\sin(\\theta)\\overrightarrow{j})-L\\dot{\\theta}^2(-\\sin(\\theta)\\overrightarrow{i}+\\cos(\\theta)\\overrightarrow{j})$$ \n",
    "     <dt>    \n",
    "   \n",
    "    $$\\overrightarrow{a_{p}}=[\\ddot{x}-L\\ddot{\\theta}\\cos(\\theta)+L\\dot{\\theta}^2\\sin(\\theta)]\\overrightarrow{i}+[-L\\ddot{\\theta}\\sin(\\theta)-L\\dot{\\theta}^2\\sin(\\theta)]\\overrightarrow{j}$$\n",
    " \n",
    "         \n",
    "<dt> \n",
    "    Remplazamos esta aceleración en las ecuaciones del péndulo: <dt> En X: <dt>\n",
    "    $$T\\sin\\theta=m_p\\ddot{x}-m_pL\\ddot{\\theta}\\cos\\theta+m_pL\\dot\\theta^2\\sin\\theta$$ <dt> En Y: <dt> $$-T\\cos\\theta-m_pg=-m_pL\\ddot{\\theta}\\sin\\theta-m_pL\\dot\\theta^2\\cos\\theta$$\n",
    "<dt> Realizamos un arreglo matemático que consiste a la primera ecuación multiplicarla toda por un coseno y a la segunda ecuación toda por un seno y posteriormente sumar ambas ecuaciones:\n",
    "    <dt> $$T\\sin\\theta\\cos\\theta=m_p\\ddot{x}\\cos\\theta-m_pL\\ddot{\\theta}(\\cos\\theta)^2+m_pL\\dot{\\theta}^2\\sin\\theta\\cos\\theta$$ \n",
    "    <dt> $$-T \\sin\\theta\\cos\\theta -m_pg\\sin\\theta=-m_pL\\ddot{\\theta}(\\sin\\theta)^2-m_pL\\dot{\\theta}^2\\sin\\theta\\cos\\theta$$ <dt> $$\\rule{120mm}{0.5mm}$$ <dt> $$-m_pg\\sin\\theta=m_p\\ddot{x}\\cos\\theta-m_pL\\ddot{\\theta}$$ <dt> Entonces: $$L\\ddot{\\theta}-\\ddot{x}\\cos\\theta-g\\sin\\theta=0$$ <dt> Para determinar la fuerza despejamos la tensión de la ecuación del carro y lo remplazamos en la ecuación de la polea teniendo: <dt> $$F=(m_p+m_c)\\ddot{x}-m_pL\\ddot{\\theta}\\cos\\theta$$\n",
    "    \n",
    "\n",
    "    "
   ]
  },
  {
   "cell_type": "markdown",
   "metadata": {},
   "source": [
    "# Método de Lagrange \n",
    "1.- Pocisión para mp (masa del péndulo)\n",
    "$$X_{mp}=X-L*sin(\\theta)$$\n",
    "$$Y_{mp}=L*cos(\\theta)$$\n",
    "\n",
    "Donde:\n",
    "\n",
    "$$\\dot{X}_{mp}=\\dot{X}-L*\\dot{\\theta}*cos(\\theta)$$\n",
    "$$\\dot{Y}_{mp}=-L*sin(\\theta)*\\dot{\\theta}$$\n",
    "\n",
    "3.- Energia Potencial\n",
    "\n",
    "$$V=mgYmp=mgLcos({\\theta})$$\n",
    "\n",
    "4.- Energia Cinética \n",
    "\n",
    "$$T=\\frac{1}{2}*mc\\dot{X}^{2}+\\frac{1}{2}*mp(\\dot{X}mp^{2}+\\dot{Y}mp^{2})$$\n",
    "$$=\\frac{1}{2}*mc\\dot{X}^{2}+\\frac{1}{2}*mp(\\dot{X}^{2}-2\\dot{X}*L\\dot{\\theta}cos({\\theta})+L^{2}\\dot{\\theta}^{2}cos^{2}(\\theta)+L^{2}\\dot{\\theta}sin^{2}(\\theta)$$\n",
    "$$=\\frac{1}{2}mc\\dot{X}^{2}+\\frac{1}{2}*mp(\\dot{X}^{2}-2\\dot{X}*L\\dot{\\theta}cos({\\theta})+L^{2}\\dot{\\theta}^{2}$$\n",
    "$$=\\frac{1}{2}(mc+mp)\\dot{X}^{2}-mp\\dot{X}L\\dot{\\theta}cos{\\theta}+\\frac{1}{2}mpL^{2}\\dot{\\theta}^{2}$$\n",
    "5.- \n",
    "$$\\frac{d}{dq}(\\frac{\\partial{L}}{\\partial{qi}})-\\frac{\\partial{L}}{\\partial{qi}}=Qi$$\n",
    "Donde: $$L=T-V$$\n",
    "$$L=\\frac{1}{2}(mc+mp)\\dot{X}^{2}+\\frac{1}{2}mpL^{2}\\dot{\\theta}^{2}-mpL\\dot{\\theta}\\dot{X}cos({\\theta})-mpLcos({\\theta})$$\n",
    "Entonces se teniene:\n",
    "$$(mp+mc)\\ddot{X}-(mL\\ddot{\\theta}cos{\\theta}-mL\\dot{\\theta}^{2}sin({\\theta}))=F(t)$$\n",
    "$$(mp+mc)\\ddot{X}-mL\\ddot{\\theta}cos{\\theta}+mL\\dot{\\theta}^{2}sin({\\theta})=F(t)$$\n",
    "Ahora Derivamos para ${\\theta}$:\n",
    "$$mpL^{2}\\dot{\\theta}^{2}-mpL\\ddot{X}cos{\\theta}+mpL\\dot{X}\\dot{\\theta}sen({\\theta})-mL\\dot{\\theta}\\dot{X}sen({\\theta})-mgLsen({\\theta})=0$$\n",
    "Entonces:\n",
    "$$mpl^{2}-mpL\\ddot{X}cos({\\theta})-mpgLsen({\\theta})=0 $$"
   ]
  }
 ],
 "metadata": {
  "kernelspec": {
   "display_name": "Python 3",
   "language": "python",
   "name": "python3"
  },
  "language_info": {
   "codemirror_mode": {
    "name": "ipython",
    "version": 3
   },
   "file_extension": ".py",
   "mimetype": "text/x-python",
   "name": "python",
   "nbconvert_exporter": "python",
   "pygments_lexer": "ipython3",
   "version": "3.8.8"
  }
 },
 "nbformat": 4,
 "nbformat_minor": 4
}
